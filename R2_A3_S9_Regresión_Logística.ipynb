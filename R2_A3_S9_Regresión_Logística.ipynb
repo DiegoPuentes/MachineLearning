{
  "nbformat": 4,
  "nbformat_minor": 0,
  "metadata": {
    "colab": {
      "provenance": [],
      "authorship_tag": "ABX9TyPU+NT8wQiBYdZaNzvmlLu/",
      "include_colab_link": true
    },
    "kernelspec": {
      "name": "python3",
      "display_name": "Python 3"
    },
    "language_info": {
      "name": "python"
    }
  },
  "cells": [
    {
      "cell_type": "markdown",
      "metadata": {
        "id": "view-in-github",
        "colab_type": "text"
      },
      "source": [
        "<a href=\"https://colab.research.google.com/github/DiegoPuentes/MachineLearning/blob/main/R2_A3_S9_Regresi%C3%B3n_Log%C3%ADstica.ipynb\" target=\"_parent\"><img src=\"https://colab.research.google.com/assets/colab-badge.svg\" alt=\"Open In Colab\"/></a>"
      ]
    },
    {
      "cell_type": "code",
      "execution_count": 10,
      "metadata": {
        "colab": {
          "base_uri": "https://localhost:8080/",
          "height": 1000
        },
        "id": "FNKhrBULzHFo",
        "outputId": "d72c06ea-d3b9-4c92-a5a4-47452b1e2dba"
      },
      "outputs": [
        {
          "output_type": "stream",
          "name": "stdout",
          "text": [
            "   HouseID   SquareFeet  Bedrooms  Bathrooms          Price\n",
            "0     1641   934.741032         3          3  123411.842428\n",
            "1     9584  4654.477596         3          2  155824.707159\n",
            "2     8684   587.298366         4          2  192054.415998\n",
            "3     4180   531.792639         4          1  443683.966308\n",
            "4     8653  4867.312578         2          2  227121.314282 \n",
            "\n",
            "<class 'pandas.core.frame.DataFrame'>\n",
            "RangeIndex: 2000 entries, 0 to 1999\n",
            "Data columns (total 5 columns):\n",
            " #   Column      Non-Null Count  Dtype  \n",
            "---  ------      --------------  -----  \n",
            " 0   HouseID     2000 non-null   int64  \n",
            " 1   SquareFeet  2000 non-null   float64\n",
            " 2   Bedrooms    2000 non-null   int64  \n",
            " 3   Bathrooms   2000 non-null   int64  \n",
            " 4   Price       2000 non-null   float64\n",
            "dtypes: float64(2), int64(3)\n",
            "memory usage: 78.2 KB\n",
            "None \n",
            "\n",
            "           HouseID   SquareFeet     Bedrooms    Bathrooms          Price\n",
            "count  2000.000000  2000.000000  2000.000000  2000.000000    2000.000000\n",
            "mean   5491.651500  2769.066571     2.494000     1.998000  277452.266700\n",
            "std    2568.939092  1292.570047     1.109315     0.807045  130358.786979\n",
            "min    1009.000000   501.357997     1.000000     1.000000   50115.279150\n",
            "25%    3257.250000  1667.917631     2.000000     1.000000  166637.172160\n",
            "50%    5549.500000  2783.588245     2.500000     2.000000  278431.579398\n",
            "75%    7656.250000  3884.358903     3.000000     3.000000  389637.324227\n",
            "max    9997.000000  4999.952232     4.000000     3.000000  499087.903981 \n",
            "\n",
            "[1 1 0 0 1 0 1 1 1 0 0 0 0 1 1 1 1 1 0 1 1 1 1 1 1 1 1 0 1 0 1 1 1 1 0 1 1\n",
            " 0 1 1 1 1 0 1 1 0 1 1 1 0 0 1 1 1 0 1 1 1 1 1 0 1 1 0 1 1 0 1 1 1 1 1 1 1\n",
            " 0 1 0 1 1 0 1 0 1 0 1 1 0 1 0 0 1 0 1 0 1 1 1 1 1 1 0 0 0 1 0 0 1 1 0 0 1\n",
            " 0 0 0 1 0 0 1 1 1 1 1 1 1 1 1 1 1 1 0 1 1 1 1 1 1 1 1 0 1 0 1 1 1 0 1 0 1\n",
            " 0 1 0 1 1 1 0 1 1 0 1 1 1 1 1 1 0 0 0 1 1 0 1 1 1 0 1 1 1 1 1 1 1 0 0 1 1\n",
            " 1 1 1 1 1 1 1 0 1 1 1 0 0 0 1 1 1 1 0 1 0 1 1 1 0 0 1 1 1 0 0 0 1 0 1 1 1\n",
            " 1 1 0 0 1 1 1 0 1 1 0 0 1 0 1 1 0 1 1 0 1 1 0 0 1 1 0 1 1 1 0 1 1 0 1 1 1\n",
            " 0 1 1 1 1 1 1 1 0 1 0 1 1 0 0 1 0 1 0 1 1 1 1 1 1 1 1 1 1 0 0 1 0 1 1 0 1\n",
            " 1 1 1 1 1 1 1 0 1 1 1 0 1 0 1 1 1 1 0 1 1 1 1 1 0 1 0 1 0 0 1 0 1 1 1 1 1\n",
            " 1 1 0 1 1 1 0 1 1 1 1 1 1 1 1 1 1 1 1 0 1 1 1 0 1 0 0 0 1 1 1 1 1 0 0 1 1\n",
            " 0 0 0 0 1 1 1 0 1 0 1 1 0 0 1 0 0 0 0 0 0 1 1 1 0 0 1 1 1 0]\n",
            "\n",
            "\n"
          ]
        },
        {
          "output_type": "stream",
          "name": "stderr",
          "text": [
            "/usr/local/lib/python3.10/dist-packages/sklearn/base.py:458: UserWarning: X has feature names, but LogisticRegression was fitted without feature names\n",
            "  warnings.warn(\n"
          ]
        },
        {
          "output_type": "display_data",
          "data": {
            "text/plain": [
              "<Figure size 600x400 with 2 Axes>"
            ],
            "image/png": "[encoded data removed]"
          },
          "metadata": {}
        },
        {
          "output_type": "stream",
          "name": "stdout",
          "text": [
            "Model accuracy: 0.48\n",
            "Classification report:\n",
            "               precision    recall  f1-score   support\n",
            "\n",
            "           0       0.56      0.32      0.41       223\n",
            "           1       0.44      0.68      0.54       177\n",
            "\n",
            "    accuracy                           0.48       400\n",
            "   macro avg       0.50      0.50      0.47       400\n",
            "weighted avg       0.51      0.48      0.47       400\n",
            "\n"
          ]
        }
      ],
      "source": [
        "#Import the libraries necesary for the execute of the code.\n",
        "import numpy as np\n",
        "import pandas as pd\n",
        "import matplotlib.pyplot as plt\n",
        "import seaborn as sns\n",
        "from sklearn.model_selection import train_test_split\n",
        "from sklearn.preprocessing import StandardScaler\n",
        "from sklearn.linear_model import LogisticRegression\n",
        "from sklearn.metrics import confusion_matrix, accuracy_score, classification_report\n",
        "\n",
        "#Read the information of the file\n",
        "data = pd.read_csv('house_prices.csv')\n",
        "\n",
        "#Display the information of the ile\n",
        "print(data.head(), '\\n')\n",
        "print(data.info(), '\\n')\n",
        "print(data.describe(), '\\n')\n",
        "\n",
        "#Find the median of the price for categorize in two groups the price whether it is higher or lower to 300000\n",
        "data['Price_Category'] = np.where(data['Price'] > 300000, 1, 0)\n",
        "\n",
        "#Delete the columns\n",
        "x = data.drop(['Price', 'Price_Category'], axis=1)\n",
        "y = data['Price_Category']\n",
        "\n",
        "#Split the data\n",
        "x_train, x_test, y_train, y_test = train_test_split(x, y, test_size=0.2, random_state=42)\n",
        "\n",
        "#Scaler the data\n",
        "scaler = StandardScaler()\n",
        "x_train_scaled = scaler.fit_transform(x_train)\n",
        "x_test_scaled = scaler.transform(x_test)\n",
        "\n",
        "#Training the model\n",
        "model = LogisticRegression()\n",
        "model.fit(x_train_scaled, y_train)\n",
        "\n",
        "#Predict the info\n",
        "y_pred = model.predict(x_test)\n",
        "\n",
        "#Display the data\n",
        "print(y_pred )\n",
        "print('\\n')\n",
        "\n",
        "plt.figure(figsize=(6, 4))\n",
        "sns.heatmap(confusion_matrix(y_test, y_pred), annot=True, fmt='d', cmap='Blues')\n",
        "plt.xlabel('Predicted')\n",
        "plt.ylabel('Actual')\n",
        "plt.title('Confusion Matrix')\n",
        "plt.show()\n",
        "print('Model accuracy:', accuracy_score(y_test, y_pred))\n",
        "print('Classification report:\\n', classification_report(y_test, y_pred))"
      ]
    }
  ]
}