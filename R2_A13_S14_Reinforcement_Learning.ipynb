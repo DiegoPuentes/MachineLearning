{
  "nbformat": 4,
  "nbformat_minor": 0,
  "metadata": {
    "colab": {
      "provenance": [],
      "authorship_tag": "ABX9TyMd9US83sUBFWRmStCKyjvM",
      "include_colab_link": true
    },
    "kernelspec": {
      "name": "python3",
      "display_name": "Python 3"
    },
    "language_info": {
      "name": "python"
    }
  },
  "cells": [
    {
      "cell_type": "markdown",
      "metadata": {
        "id": "view-in-github",
        "colab_type": "text"
      },
      "source": [
        "<a href=\"https://colab.research.google.com/github/DiegoPuentes/MachineLearning/blob/main/R2_A13_S14_Reinforcement_Learning.ipynb\" target=\"_parent\"><img src=\"https://colab.research.google.com/assets/colab-badge.svg\" alt=\"Open In Colab\"/></a>"
      ]
    },
    {
      "cell_type": "code",
      "execution_count": 10,
      "metadata": {
        "colab": {
          "base_uri": "https://localhost:8080/",
          "height": 545
        },
        "id": "OqArC5aDaO_6",
        "outputId": "55dde507-164b-49f8-8403-956bc0be003e"
      },
      "outputs": [
        {
          "output_type": "display_data",
          "data": {
            "text/plain": [
              "<Figure size 600x600 with 1 Axes>"
            ],
            "image/png": "[encoded data removed]"
          },
          "metadata": {}
        }
      ],
      "source": [
        "import numpy as np\n",
        "import matplotlib.pyplot as plt\n",
        "import random\n",
        "\n",
        "# Configuración del laberinto\n",
        "def crear_laberinto(tamaño, obstaculos):\n",
        "    laberinto = np.zeros((tamaño, tamaño), dtype=int)\n",
        "    for _ in range(obstaculos):\n",
        "        x, y = random.randint(0, tamaño-1), random.randint(0, tamaño-1)\n",
        "        laberinto[x, y] = 1\n",
        "    laberinto[0, 0] = 0  # Punto inicial\n",
        "    laberinto[-1, -1] = 2  # Meta\n",
        "    return laberinto\n",
        "\n",
        "laberinto = crear_laberinto(100, 3000)\n",
        "\n",
        "# Parámetros del Q-Learning\n",
        "alpha = 0.1\n",
        "gamma = 0.9\n",
        "epsilon = 1.0\n",
        "epsilon_decay = 0.995\n",
        "min_epsilon = 0.1\n",
        "num_episodios = 1000\n",
        "acciones = [(-1, 0), (1, 0), (0, -1), (0, 1)]  # Arriba, Abajo, Izquierda, Derecha\n",
        "\n",
        "# Inicialización de la tabla Q\n",
        "Q = np.zeros((100, 100, len(acciones)))\n",
        "\n",
        "# Función para elegir una acción\n",
        "def elegir_accion(estado, epsilon):\n",
        "    if random.uniform(0, 1) < epsilon:\n",
        "        return random.randint(0, len(acciones) - 1)\n",
        "    else:\n",
        "        return np.argmax(Q[estado])\n",
        "\n",
        "# Validación de movimiento\n",
        "def mover(estado, accion):\n",
        "    x, y = estado\n",
        "    dx, dy = acciones[accion]\n",
        "    nx, ny = x + dx, y + dy\n",
        "    if 0 <= nx < laberinto.shape[0] and 0 <= ny < laberinto.shape[1] and laberinto[nx, ny] != 1:\n",
        "        return (nx, ny)\n",
        "    return estado\n",
        "\n",
        "# Entrenamiento del agente\n",
        "for episodio in range(num_episodios):\n",
        "    estado = (0, 0)\n",
        "    while estado != (99, 99):\n",
        "        accion = elegir_accion(estado, epsilon)\n",
        "        nuevo_estado = mover(estado, accion)\n",
        "        recompensa = 1 if laberinto[nuevo_estado] == 2 else -0.1\n",
        "        Q[estado][accion] += alpha * (recompensa + gamma * np.max(Q[nuevo_estado]) - Q[estado][accion])\n",
        "        estado = nuevo_estado\n",
        "    epsilon = max(min_epsilon, epsilon * epsilon_decay)\n",
        "\n",
        "# Evaluación del modelo\n",
        "estado = (0, 0)\n",
        "camino = [estado]\n",
        "\n",
        "while estado != (99, 99):\n",
        "    accion = np.argmax(Q[estado])\n",
        "    estado = mover(estado, accion)\n",
        "    camino.append(estado)\n",
        "\n",
        "# Visualización del laberinto y el camino\n",
        "laberinto_viz = laberinto.copy()\n",
        "for x, y in camino:\n",
        "    laberinto_viz[x, y] = 3\n",
        "\n",
        "plt.figure(figsize=(10, 10))\n",
        "plt.imshow(laberinto_viz, cmap=\"viridis\")\n",
        "plt.title(\"Recorrido del agente\")\n",
        "plt.show()\n"
      ]
    }
  ]
}