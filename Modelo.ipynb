{
  "nbformat": 4,
  "nbformat_minor": 0,
  "metadata": {
    "colab": {
      "provenance": [],
      "authorship_tag": "ABX9TyPeGSqk6qyCamzUNdkgp6jw",
      "include_colab_link": true
    },
    "kernelspec": {
      "name": "python3",
      "display_name": "Python 3"
    },
    "language_info": {
      "name": "python"
    }
  },
  "cells": [
    {
      "cell_type": "markdown",
      "metadata": {
        "id": "view-in-github",
        "colab_type": "text"
      },
      "source": [
        "<a href=\"https://colab.research.google.com/github/DiegoPuentes/MachineLearning/blob/main/Modelo.ipynb\" target=\"_parent\"><img src=\"https://colab.research.google.com/assets/colab-badge.svg\" alt=\"Open In Colab\"/></a>"
      ]
    },
    {
      "cell_type": "code",
      "source": [
        "!pip install flask pyngrok joblib matplotlib pandas scikit-learn"
      ],
      "metadata": {
        "colab": {
          "base_uri": "https://localhost:8080/"
        },
        "id": "KrZCytNO1nto",
        "outputId": "15aaf1eb-e0c5-45fc-ba95-f1a07831b710"
      },
      "execution_count": 7,
      "outputs": [
        {
          "output_type": "stream",
          "name": "stdout",
          "text": [
            "Requirement already satisfied: flask in /usr/local/lib/python3.11/dist-packages (3.1.0)\n",
            "Collecting pyngrok\n",
            "  Downloading pyngrok-7.2.8-py3-none-any.whl.metadata (10 kB)\n",
            "Requirement already satisfied: joblib in /usr/local/lib/python3.11/dist-packages (1.4.2)\n",
            "Requirement already satisfied: matplotlib in /usr/local/lib/python3.11/dist-packages (3.10.0)\n",
            "Requirement already satisfied: pandas in /usr/local/lib/python3.11/dist-packages (2.2.2)\n",
            "Requirement already satisfied: scikit-learn in /usr/local/lib/python3.11/dist-packages (1.6.1)\n",
            "Requirement already satisfied: Werkzeug>=3.1 in /usr/local/lib/python3.11/dist-packages (from flask) (3.1.3)\n",
            "Requirement already satisfied: Jinja2>=3.1.2 in /usr/local/lib/python3.11/dist-packages (from flask) (3.1.6)\n",
            "Requirement already satisfied: itsdangerous>=2.2 in /usr/local/lib/python3.11/dist-packages (from flask) (2.2.0)\n",
            "Requirement already satisfied: click>=8.1.3 in /usr/local/lib/python3.11/dist-packages (from flask) (8.1.8)\n",
            "Requirement already satisfied: blinker>=1.9 in /usr/local/lib/python3.11/dist-packages (from flask) (1.9.0)\n",
            "Requirement already satisfied: PyYAML>=5.1 in /usr/local/lib/python3.11/dist-packages (from pyngrok) (6.0.2)\n",
            "Requirement already satisfied: contourpy>=1.0.1 in /usr/local/lib/python3.11/dist-packages (from matplotlib) (1.3.2)\n",
            "Requirement already satisfied: cycler>=0.10 in /usr/local/lib/python3.11/dist-packages (from matplotlib) (0.12.1)\n",
            "Requirement already satisfied: fonttools>=4.22.0 in /usr/local/lib/python3.11/dist-packages (from matplotlib) (4.57.0)\n",
            "Requirement already satisfied: kiwisolver>=1.3.1 in /usr/local/lib/python3.11/dist-packages (from matplotlib) (1.4.8)\n",
            "Requirement already satisfied: numpy>=1.23 in /usr/local/lib/python3.11/dist-packages (from matplotlib) (2.0.2)\n",
            "Requirement already satisfied: packaging>=20.0 in /usr/local/lib/python3.11/dist-packages (from matplotlib) (24.2)\n",
            "Requirement already satisfied: pillow>=8 in /usr/local/lib/python3.11/dist-packages (from matplotlib) (11.2.1)\n",
            "Requirement already satisfied: pyparsing>=2.3.1 in /usr/local/lib/python3.11/dist-packages (from matplotlib) (3.2.3)\n",
            "Requirement already satisfied: python-dateutil>=2.7 in /usr/local/lib/python3.11/dist-packages (from matplotlib) (2.9.0.post0)\n",
            "Requirement already satisfied: pytz>=2020.1 in /usr/local/lib/python3.11/dist-packages (from pandas) (2025.2)\n",
            "Requirement already satisfied: tzdata>=2022.7 in /usr/local/lib/python3.11/dist-packages (from pandas) (2025.2)\n",
            "Requirement already satisfied: scipy>=1.6.0 in /usr/local/lib/python3.11/dist-packages (from scikit-learn) (1.15.2)\n",
            "Requirement already satisfied: threadpoolctl>=3.1.0 in /usr/local/lib/python3.11/dist-packages (from scikit-learn) (3.6.0)\n",
            "Requirement already satisfied: MarkupSafe>=2.0 in /usr/local/lib/python3.11/dist-packages (from Jinja2>=3.1.2->flask) (3.0.2)\n",
            "Requirement already satisfied: six>=1.5 in /usr/local/lib/python3.11/dist-packages (from python-dateutil>=2.7->matplotlib) (1.17.0)\n",
            "Downloading pyngrok-7.2.8-py3-none-any.whl (25 kB)\n",
            "Installing collected packages: pyngrok\n",
            "Successfully installed pyngrok-7.2.8\n"
          ]
        }
      ]
    },
    {
      "cell_type": "code",
      "source": [
        "data = '''YearsExperience,Salary\n",
        "1.1,39343.00\n",
        "1.3,46205.00\n",
        "1.5,37731.00\n",
        "2.0,43525.00\n",
        "2.2,39891.00\n",
        "2.9,56642.00\n",
        "3.0,60150.00\n",
        "3.2,54445.00\n",
        "3.2,64445.00\n",
        "3.7,57189.00\n",
        "3.9,63218.00\n",
        "4.0,55794.00\n",
        "4.0,56957.00\n",
        "4.1,57081.00\n",
        "4.5,61111.00\n",
        "4.9,67938.00\n",
        "5.1,66029.00\n",
        "5.3,83088.00\n",
        "5.9,81363.00\n",
        "6.0,93940.00\n",
        "6.8,91738.00\n",
        "7.1,98273.00\n",
        "7.9,101302.00\n",
        "8.2,113812.00\n",
        "8.7,109431.00\n",
        "9.0,105582.00\n",
        "9.5,116969.00\n",
        "9.6,112635.00\n",
        "10.3,122391.00\n",
        "10.5,121872.00'''\n",
        "\n",
        "with open('Salary_Data.csv', 'w') as f:\n",
        "    f.write(data)\n"
      ],
      "metadata": {
        "id": "pP-hzr8g0oEZ"
      },
      "execution_count": null,
      "outputs": []
    },
    {
      "cell_type": "code",
      "source": [
        "import pandas as pd\n",
        "from sklearn.linear_model import LinearRegression\n",
        "import matplotlib.pyplot as plt\n",
        "import joblib\n",
        "\n",
        "# Cargar datos\n",
        "df = pd.read_csv(\"Salary_Data.csv\")\n",
        "X = df[[\"YearsExperience\"]]\n",
        "y = df[\"Salary\"]\n",
        "\n",
        "# Modelo\n",
        "modelo = LinearRegression()\n",
        "modelo.fit(X, y)\n",
        "\n",
        "# Guardar modelo\n",
        "joblib.dump(modelo, \"modelo.pkl\")\n",
        "\n",
        "# Gráfico\n",
        "plt.figure(figsize=(8,5))\n",
        "plt.scatter(X, y, color=\"blue\", label=\"Datos reales\")\n",
        "plt.plot(X, modelo.predict(X), color=\"red\", label=\"Regresión\")\n",
        "plt.xlabel(\"Años de experiencia\")\n",
        "plt.ylabel(\"Salario\")\n",
        "plt.title(\"Regresión Lineal - Salarios\")\n",
        "plt.legend()\n",
        "plt.grid(True)\n",
        "plt.savefig(\"static/grafico.png\")\n",
        "plt.show()\n"
      ],
      "metadata": {
        "id": "IXj85ob_1w-6",
        "colab": {
          "base_uri": "https://localhost:8080/",
          "height": 488
        },
        "outputId": "99ef3c02-83cf-40df-af3e-db72e3bf7cfc"
      },
      "execution_count": 4,
      "outputs": [
        {
          "output_type": "display_data",
          "data": {
            "text/plain": [
              "<Figure size 800x500 with 1 Axes>"
            ],
            "image/png": "[encoded data removed]"
          },
          "metadata": {}
        }
      ]
    },
    {
      "cell_type": "code",
      "source": [
        "import os\n",
        "os.makedirs(\"static\", exist_ok=True)"
      ],
      "metadata": {
        "id": "kTb4IMyQ109z"
      },
      "execution_count": 5,
      "outputs": []
    },
    {
      "cell_type": "code",
      "source": [
        "from flask import Flask, render_template_string, request\n",
        "from pyngrok import ngrok\n",
        "import joblib\n",
        "\n",
        "app = Flask(__name__)\n",
        "\n",
        "html = '''\n",
        "<!DOCTYPE html>\n",
        "<html>\n",
        "<head>\n",
        "    <title>Predicción de Salario</title>\n",
        "    <style>\n",
        "        body { font-family: Arial; padding: 40px; background-color: #f8f9fa; }\n",
        "        h1 { color: #333; }\n",
        "        form { margin-top: 20px; }\n",
        "        input[type=\"text\"] { padding: 5px; }\n",
        "        input[type=\"submit\"] { padding: 5px 10px; }\n",
        "        .resultado { margin-top: 20px; font-weight: bold; }\n",
        "    </style>\n",
        "</head>\n",
        "<body>\n",
        "    <h1>Modelo de Regresión Lineal</h1>\n",
        "    <p>Predicción de salario según años de experiencia.</p>\n",
        "    <img src=\"/static/grafico.png\" width=\"500\"/><br><br>\n",
        "    <form method=\"post\">\n",
        "        <label>Años de experiencia:</label>\n",
        "        <input type=\"text\" name=\"experiencia\">\n",
        "        <input type=\"submit\" value=\"Predecir\">\n",
        "    </form>\n",
        "    {% if resultado %}\n",
        "        <div class=\"resultado\">Salario estimado: {{ resultado }}</div>\n",
        "    {% endif %}\n",
        "</body>\n",
        "</html>\n",
        "'''\n",
        "\n",
        "@app.route(\"/\", methods=[\"GET\", \"POST\"])\n",
        "def index():\n",
        "    resultado = None\n",
        "    if request.method == \"POST\":\n",
        "        try:\n",
        "            exp = float(request.form[\"experiencia\"])\n",
        "            try:\n",
        "                modelo = joblib.load(\"modelo.pkl\")\n",
        "                pred = modelo.predict([[exp]])[0]\n",
        "                resultado = f\"${pred:,.2f}\"\n",
        "            except FileNotFoundError:\n",
        "                resultado = \"Error: Modelo no encontrado.\"\n",
        "            except Exception as e:\n",
        "                 resultado = f\"Error al predecir: {e}\"\n",
        "        except ValueError:\n",
        "            resultado = \"Error: La entrada debe ser un número válido.\"\n",
        "        except Exception as e:\n",
        "            resultado = f\"Ocurrió un error inesperado: {e}\"\n",
        "    return render_template_string(html, resultado=resultado)\n",
        "\n",
        "ngrok.set_auth_token(\"2wvajDn4UqYZgJzkNtj8DmHNYTE_7TFLtTRpcwJ5zyJ29hPbH\")\n",
        "\n",
        "try:\n",
        "    public_url = ngrok.connect(5000)\n",
        "    print(\"🔗 Tu aplicación está disponible en:\", public_url)\n",
        "    app.run()\n",
        "except Exception as e:\n",
        "    print(f\"Error al iniciar la aplicación o ngrok: {e}\")"
      ],
      "metadata": {
        "colab": {
          "base_uri": "https://localhost:8080/"
        },
        "id": "cI8xAjVn1WLq",
        "outputId": "83447758-6352-4c16-aa50-dd0246b49860"
      },
      "execution_count": null,
      "outputs": [
        {
          "output_type": "stream",
          "name": "stdout",
          "text": [
            "🔗 Tu aplicación está disponible en: NgrokTunnel: \"https://7c1e-34-19-108-67.ngrok-free.app\" -> \"http://localhost:5000\"\n",
            " * Serving Flask app '__main__'\n",
            " * Debug mode: off\n"
          ]
        },
        {
          "output_type": "stream",
          "name": "stderr",
          "text": [
            "INFO:werkzeug:\u001b[31m\u001b[1mWARNING: This is a development server. Do not use it in a production deployment. Use a production WSGI server instead.\u001b[0m\n",
            " * Running on http://127.0.0.1:5000\n",
            "INFO:werkzeug:\u001b[33mPress CTRL+C to quit\u001b[0m\n",
            "INFO:werkzeug:127.0.0.1 - - [11/May/2025 00:56:00] \"GET / HTTP/1.1\" 200 -\n",
            "INFO:werkzeug:127.0.0.1 - - [11/May/2025 00:56:00] \"GET /static/grafico.png HTTP/1.1\" 200 -\n",
            "INFO:werkzeug:127.0.0.1 - - [11/May/2025 00:56:01] \"\u001b[33mGET /favicon.ico HTTP/1.1\u001b[0m\" 404 -\n",
            "/usr/local/lib/python3.11/dist-packages/sklearn/utils/validation.py:2739: UserWarning: X does not have valid feature names, but LinearRegression was fitted with feature names\n",
            "  warnings.warn(\n",
            "INFO:werkzeug:127.0.0.1 - - [11/May/2025 00:56:04] \"POST / HTTP/1.1\" 200 -\n",
            "INFO:werkzeug:127.0.0.1 - - [11/May/2025 00:56:04] \"\u001b[36mGET /static/grafico.png HTTP/1.1\u001b[0m\" 304 -\n",
            "/usr/local/lib/python3.11/dist-packages/sklearn/utils/validation.py:2739: UserWarning: X does not have valid feature names, but LinearRegression was fitted with feature names\n",
            "  warnings.warn(\n",
            "INFO:werkzeug:127.0.0.1 - - [11/May/2025 00:56:08] \"POST / HTTP/1.1\" 200 -\n",
            "INFO:werkzeug:127.0.0.1 - - [11/May/2025 00:56:08] \"\u001b[36mGET /static/grafico.png HTTP/1.1\u001b[0m\" 304 -\n",
            "/usr/local/lib/python3.11/dist-packages/sklearn/utils/validation.py:2739: UserWarning: X does not have valid feature names, but LinearRegression was fitted with feature names\n",
            "  warnings.warn(\n",
            "INFO:werkzeug:127.0.0.1 - - [11/May/2025 01:00:04] \"POST / HTTP/1.1\" 200 -\n",
            "INFO:werkzeug:127.0.0.1 - - [11/May/2025 01:00:05] \"\u001b[36mGET /static/grafico.png HTTP/1.1\u001b[0m\" 304 -\n"
          ]
        }
      ]
    }
  ]
}